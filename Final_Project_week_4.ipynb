{
    "cells": [
        {
            "cell_type": "markdown",
            "metadata": {
                "collapsed": true
            },
            "source": "# What a Neighborhood Needs\n\n## Introduction\n\n### Background\nThere is a natural flow of customers between businesses. One might go from a hair salon to a nail salon.  One might stop for drinks after dancing.  Perhap after clothes shopping people like to grab coffee.  People will tend to go from one category of business to another. Ideally, nearby the one you will find the other.  This won't necessarily be the case, and where it isn't is opportunity.  If you find, say, that people like to stop for bubble tea after shoe shopping, and find a neighborhood with shoe shop but without bubble tea, that might just be the right to invest in a new bubble tea shop.\n\n### Problem\nThere are few steps to this analysis. First we create a mapping of customer flow from one category of business to another.  Then we find geographic clusters of businesses to call our neighborhoods.  We can then analyze the categories and popularity of the businesses in each neighborhood to figure out what categories of businesses would be in hot demand for those leaving businesses in the neighborhood.  We then compare the expected hot categories to the categories existent in the neighborhood to find deficiencies. \n\n### Interest\nThe results of this analysis would be of interest to anyone considering starting a business, or investing in a new business. \n\n## Data\n### Data Source\nThe data source is Foursquare Places API. Foursquare has a remarkably complete dataset of businesses and other locations, along Specifically, we use the `search` call to get venues. As the call is limited to 50 venues, we use the call in a tight grid across the city, aggregating and deduplicating the data.  The key pieces of information this gets us is the unique venue identifier, the categories, and the exact location. On each venue we get the number of likes with the `likes` call, and the next venues and their categories with the `nextvenue` call. \n\n### Data Cleaning\n\nFirst, we reject all venues with fewer than 10 likes.  We don't really care about unpopular or non trafficked places.  Foursquare venue categories are organized into a tree. See https://developer.foursquare.com/docs/resources/categories. For instance, a Beach Bar is a Bar is a nightlife spot. Using this tree, we trim all venues that are residences. A venue might have several categories.  Always one is marked as the primary category, and we shall drop the rest.  With this final collection of venues, we aggregate the features from our various calls into a single table which includes the the unique venue identifier, the venue name, the venue's primary category, the number of likes, and the categories of the venues \"next venues\".  \n"
        },
        {
            "cell_type": "markdown",
            "metadata": {},
            "source": "\n"
        }
    ],
    "metadata": {
        "kernelspec": {
            "display_name": "Python 3.6",
            "language": "python",
            "name": "python3"
        },
        "language_info": {
            "codemirror_mode": {
                "name": "ipython",
                "version": 3
            },
            "file_extension": ".py",
            "mimetype": "text/x-python",
            "name": "python",
            "nbconvert_exporter": "python",
            "pygments_lexer": "ipython3",
            "version": "3.6.9"
        }
    },
    "nbformat": 4,
    "nbformat_minor": 1
}